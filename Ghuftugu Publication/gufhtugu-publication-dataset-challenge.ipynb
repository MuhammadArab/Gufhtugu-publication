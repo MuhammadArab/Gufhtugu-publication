{
 "cells": [
  {
   "cell_type": "markdown",
   "metadata": {
    "papermill": {
     "duration": 0.024882,
     "end_time": "2021-03-23T20:33:44.331519",
     "exception": false,
     "start_time": "2021-03-23T20:33:44.306637",
     "status": "completed"
    },
    "tags": []
   },
   "source": [
    "# **Challenges**\n",
    "\n",
    "1) Best selling books <br>\n",
    "2) Visualize order status frequency <br>\n",
    "3) Find a correlation between date and time with order status <br>\n",
    "4) Find the correlation between city and order status"
   ]
  },
  {
   "cell_type": "code",
   "execution_count": 36,
   "metadata": {
    "execution": {
     "iopub.execute_input": "2021-03-23T20:33:44.390080Z",
     "iopub.status.busy": "2021-03-23T20:33:44.389195Z",
     "iopub.status.idle": "2021-03-23T20:33:45.489600Z",
     "shell.execute_reply": "2021-03-23T20:33:45.488813Z"
    },
    "papermill": {
     "duration": 1.132911,
     "end_time": "2021-03-23T20:33:45.489759",
     "exception": false,
     "start_time": "2021-03-23T20:33:44.356848",
     "status": "completed"
    },
    "tags": []
   },
   "outputs": [],
   "source": [
    "# Import necessary libraries\n",
    "import numpy as np\n",
    "import pandas as pd\n",
    "import matplotlib.pyplot as plt\n",
    "%matplotlib inline\n",
    "import seaborn as sns"
   ]
  },
  {
   "cell_type": "code",
   "execution_count": 37,
   "metadata": {
    "execution": {
     "iopub.execute_input": "2021-03-23T20:33:45.549627Z",
     "iopub.status.busy": "2021-03-23T20:33:45.548840Z",
     "iopub.status.idle": "2021-03-23T20:33:45.724111Z",
     "shell.execute_reply": "2021-03-23T20:33:45.723355Z"
    },
    "papermill": {
     "duration": 0.2073,
     "end_time": "2021-03-23T20:33:45.724408",
     "exception": false,
     "start_time": "2021-03-23T20:33:45.517108",
     "status": "completed"
    },
    "tags": []
   },
   "outputs": [
    {
     "data": {
      "text/html": [
       "<div>\n",
       "<style scoped>\n",
       "    .dataframe tbody tr th:only-of-type {\n",
       "        vertical-align: middle;\n",
       "    }\n",
       "\n",
       "    .dataframe tbody tr th {\n",
       "        vertical-align: top;\n",
       "    }\n",
       "\n",
       "    .dataframe thead th {\n",
       "        text-align: right;\n",
       "    }\n",
       "</style>\n",
       "<table border=\"1\" class=\"dataframe\">\n",
       "  <thead>\n",
       "    <tr style=\"text-align: right;\">\n",
       "      <th></th>\n",
       "      <th>Order Number</th>\n",
       "      <th>Order Status</th>\n",
       "      <th>Book Name</th>\n",
       "      <th>Order Date &amp; Time</th>\n",
       "      <th>City</th>\n",
       "      <th>Payment Method</th>\n",
       "      <th>Total items</th>\n",
       "      <th>Total weight (grams)</th>\n",
       "    </tr>\n",
       "  </thead>\n",
       "  <tbody>\n",
       "    <tr>\n",
       "      <th>0</th>\n",
       "      <td>307</td>\n",
       "      <td>Completed</td>\n",
       "      <td>Bitcoin Blockchain aur Crypto Currency - FREE ...</td>\n",
       "      <td>10/3/2019 15:03</td>\n",
       "      <td>faisalabad</td>\n",
       "      <td>NaN</td>\n",
       "      <td>2</td>\n",
       "      <td>200.0</td>\n",
       "    </tr>\n",
       "    <tr>\n",
       "      <th>1</th>\n",
       "      <td>308</td>\n",
       "      <td>Completed</td>\n",
       "      <td>Kaggle for Begginers</td>\n",
       "      <td>10/3/2019 15:54</td>\n",
       "      <td>Rawalpindi</td>\n",
       "      <td>Cash on Delivery (COD)</td>\n",
       "      <td>1</td>\n",
       "      <td>200.0</td>\n",
       "    </tr>\n",
       "    <tr>\n",
       "      <th>2</th>\n",
       "      <td>309</td>\n",
       "      <td>Completed</td>\n",
       "      <td>Kaggle for Begginers/Bitcoin Blockchain aur Cr...</td>\n",
       "      <td>10/3/2019 16:09</td>\n",
       "      <td>Hyderabad</td>\n",
       "      <td>Cash on Delivery (COD)</td>\n",
       "      <td>2</td>\n",
       "      <td>200.0</td>\n",
       "    </tr>\n",
       "    <tr>\n",
       "      <th>3</th>\n",
       "      <td>310</td>\n",
       "      <td>Cancelled</td>\n",
       "      <td>Kaggle for Begginers</td>\n",
       "      <td>10/3/2019 16:42</td>\n",
       "      <td>Rawalpindi</td>\n",
       "      <td>Cash on Delivery (COD)</td>\n",
       "      <td>1</td>\n",
       "      <td>200.0</td>\n",
       "    </tr>\n",
       "    <tr>\n",
       "      <th>4</th>\n",
       "      <td>311</td>\n",
       "      <td>Completed</td>\n",
       "      <td>Bit Coin Block Chain aur Crypto Currency بٹ کو...</td>\n",
       "      <td>10/3/2019 16:44</td>\n",
       "      <td>Karachi</td>\n",
       "      <td>Cash on Delivery (COD)</td>\n",
       "      <td>1</td>\n",
       "      <td>200.0</td>\n",
       "    </tr>\n",
       "  </tbody>\n",
       "</table>\n",
       "</div>"
      ],
      "text/plain": [
       "   Order Number Order Status  \\\n",
       "0           307    Completed   \n",
       "1           308    Completed   \n",
       "2           309    Completed   \n",
       "3           310    Cancelled   \n",
       "4           311    Completed   \n",
       "\n",
       "                                           Book Name Order Date & Time  \\\n",
       "0  Bitcoin Blockchain aur Crypto Currency - FREE ...   10/3/2019 15:03   \n",
       "1                               Kaggle for Begginers   10/3/2019 15:54   \n",
       "2  Kaggle for Begginers/Bitcoin Blockchain aur Cr...   10/3/2019 16:09   \n",
       "3                               Kaggle for Begginers   10/3/2019 16:42   \n",
       "4  Bit Coin Block Chain aur Crypto Currency بٹ کو...   10/3/2019 16:44   \n",
       "\n",
       "         City          Payment Method  Total items  Total weight (grams)  \n",
       "0  faisalabad                     NaN            2                 200.0  \n",
       "1  Rawalpindi  Cash on Delivery (COD)            1                 200.0  \n",
       "2   Hyderabad  Cash on Delivery (COD)            2                 200.0  \n",
       "3  Rawalpindi  Cash on Delivery (COD)            1                 200.0  \n",
       "4    Karachi   Cash on Delivery (COD)            1                 200.0  "
      ]
     },
     "execution_count": 37,
     "metadata": {},
     "output_type": "execute_result"
    }
   ],
   "source": [
    "# Load Dataset, and show first five rows of it\n",
    "dataset = pd.read_csv('GP Orders - 5.csv')\n",
    "dataset.head()"
   ]
  },
  {
   "cell_type": "code",
   "execution_count": 38,
   "metadata": {
    "execution": {
     "iopub.execute_input": "2021-03-23T20:33:45.784987Z",
     "iopub.status.busy": "2021-03-23T20:33:45.784096Z",
     "iopub.status.idle": "2021-03-23T20:33:45.788452Z",
     "shell.execute_reply": "2021-03-23T20:33:45.788994Z"
    },
    "papermill": {
     "duration": 0.037569,
     "end_time": "2021-03-23T20:33:45.789175",
     "exception": false,
     "start_time": "2021-03-23T20:33:45.751606",
     "status": "completed"
    },
    "tags": []
   },
   "outputs": [
    {
     "data": {
      "text/plain": [
       "(19239, 8)"
      ]
     },
     "execution_count": 38,
     "metadata": {},
     "output_type": "execute_result"
    }
   ],
   "source": [
    "# checking total number of rows and columns in the dataset\n",
    "dataset.shape"
   ]
  },
  {
   "cell_type": "markdown",
   "metadata": {
    "papermill": {
     "duration": 0.028526,
     "end_time": "2021-03-23T20:33:45.845481",
     "exception": false,
     "start_time": "2021-03-23T20:33:45.816955",
     "status": "completed"
    },
    "tags": []
   },
   "source": [
    "As shown above, the dataset contains 19239 rows and 8 columns in total"
   ]
  },
  {
   "cell_type": "code",
   "execution_count": 39,
   "metadata": {
    "execution": {
     "iopub.execute_input": "2021-03-23T20:33:45.929274Z",
     "iopub.status.busy": "2021-03-23T20:33:45.916514Z",
     "iopub.status.idle": "2021-03-23T20:33:45.934087Z",
     "shell.execute_reply": "2021-03-23T20:33:45.933440Z"
    },
    "papermill": {
     "duration": 0.061415,
     "end_time": "2021-03-23T20:33:45.934228",
     "exception": false,
     "start_time": "2021-03-23T20:33:45.872813",
     "status": "completed"
    },
    "tags": []
   },
   "outputs": [
    {
     "name": "stdout",
     "output_type": "stream",
     "text": [
      "<class 'pandas.core.frame.DataFrame'>\n",
      "RangeIndex: 19239 entries, 0 to 19238\n",
      "Data columns (total 8 columns):\n",
      "Order Number            19239 non-null int64\n",
      "Order Status            19239 non-null object\n",
      "Book Name               19237 non-null object\n",
      "Order Date & Time       19239 non-null object\n",
      "City                    19238 non-null object\n",
      "Payment Method          19229 non-null object\n",
      "Total items             19239 non-null int64\n",
      "Total weight (grams)    19239 non-null float64\n",
      "dtypes: float64(1), int64(2), object(5)\n",
      "memory usage: 1.2+ MB\n"
     ]
    }
   ],
   "source": [
    "# Print information about dataset\n",
    "dataset.info()"
   ]
  },
  {
   "cell_type": "code",
   "execution_count": 40,
   "metadata": {
    "execution": {
     "iopub.execute_input": "2021-03-23T20:33:45.996993Z",
     "iopub.status.busy": "2021-03-23T20:33:45.996179Z",
     "iopub.status.idle": "2021-03-23T20:33:46.019613Z",
     "shell.execute_reply": "2021-03-23T20:33:46.018963Z"
    },
    "papermill": {
     "duration": 0.058576,
     "end_time": "2021-03-23T20:33:46.019790",
     "exception": false,
     "start_time": "2021-03-23T20:33:45.961214",
     "status": "completed"
    },
    "tags": []
   },
   "outputs": [
    {
     "data": {
      "text/html": [
       "<div>\n",
       "<style scoped>\n",
       "    .dataframe tbody tr th:only-of-type {\n",
       "        vertical-align: middle;\n",
       "    }\n",
       "\n",
       "    .dataframe tbody tr th {\n",
       "        vertical-align: top;\n",
       "    }\n",
       "\n",
       "    .dataframe thead th {\n",
       "        text-align: right;\n",
       "    }\n",
       "</style>\n",
       "<table border=\"1\" class=\"dataframe\">\n",
       "  <thead>\n",
       "    <tr style=\"text-align: right;\">\n",
       "      <th></th>\n",
       "      <th>Order Number</th>\n",
       "      <th>Total items</th>\n",
       "      <th>Total weight (grams)</th>\n",
       "    </tr>\n",
       "  </thead>\n",
       "  <tbody>\n",
       "    <tr>\n",
       "      <th>count</th>\n",
       "      <td>19239.000000</td>\n",
       "      <td>19239.000000</td>\n",
       "      <td>19239.000000</td>\n",
       "    </tr>\n",
       "    <tr>\n",
       "      <th>mean</th>\n",
       "      <td>52535.780238</td>\n",
       "      <td>6.051874</td>\n",
       "      <td>363.749675</td>\n",
       "    </tr>\n",
       "    <tr>\n",
       "      <th>std</th>\n",
       "      <td>15835.761148</td>\n",
       "      <td>576.938452</td>\n",
       "      <td>834.097325</td>\n",
       "    </tr>\n",
       "    <tr>\n",
       "      <th>min</th>\n",
       "      <td>307.000000</td>\n",
       "      <td>0.000000</td>\n",
       "      <td>200.000000</td>\n",
       "    </tr>\n",
       "    <tr>\n",
       "      <th>25%</th>\n",
       "      <td>48064.500000</td>\n",
       "      <td>1.000000</td>\n",
       "      <td>200.000000</td>\n",
       "    </tr>\n",
       "    <tr>\n",
       "      <th>50%</th>\n",
       "      <td>56436.000000</td>\n",
       "      <td>1.000000</td>\n",
       "      <td>200.000000</td>\n",
       "    </tr>\n",
       "    <tr>\n",
       "      <th>75%</th>\n",
       "      <td>63779.500000</td>\n",
       "      <td>1.000000</td>\n",
       "      <td>500.000000</td>\n",
       "    </tr>\n",
       "    <tr>\n",
       "      <th>max</th>\n",
       "      <td>71420.000000</td>\n",
       "      <td>80022.000000</td>\n",
       "      <td>55000.000000</td>\n",
       "    </tr>\n",
       "  </tbody>\n",
       "</table>\n",
       "</div>"
      ],
      "text/plain": [
       "       Order Number   Total items  Total weight (grams)\n",
       "count  19239.000000  19239.000000          19239.000000\n",
       "mean   52535.780238      6.051874            363.749675\n",
       "std    15835.761148    576.938452            834.097325\n",
       "min      307.000000      0.000000            200.000000\n",
       "25%    48064.500000      1.000000            200.000000\n",
       "50%    56436.000000      1.000000            200.000000\n",
       "75%    63779.500000      1.000000            500.000000\n",
       "max    71420.000000  80022.000000          55000.000000"
      ]
     },
     "execution_count": 40,
     "metadata": {},
     "output_type": "execute_result"
    }
   ],
   "source": [
    "# Prints statistical summary\n",
    "dataset.describe()"
   ]
  },
  {
   "cell_type": "code",
   "execution_count": 41,
   "metadata": {
    "execution": {
     "iopub.execute_input": "2021-03-23T20:33:46.083866Z",
     "iopub.status.busy": "2021-03-23T20:33:46.082977Z",
     "iopub.status.idle": "2021-03-23T20:33:46.122204Z",
     "shell.execute_reply": "2021-03-23T20:33:46.121647Z"
    },
    "papermill": {
     "duration": 0.072722,
     "end_time": "2021-03-23T20:33:46.122374",
     "exception": false,
     "start_time": "2021-03-23T20:33:46.049652",
     "status": "completed"
    },
    "tags": []
   },
   "outputs": [
    {
     "data": {
      "text/plain": [
       "Order Number            19239\n",
       "Order Status                3\n",
       "Book Name                3525\n",
       "Order Date & Time       18100\n",
       "City                     4163\n",
       "Payment Method              5\n",
       "Total items                51\n",
       "Total weight (grams)       63\n",
       "dtype: int64"
      ]
     },
     "execution_count": 41,
     "metadata": {},
     "output_type": "execute_result"
    }
   ],
   "source": [
    "# Unique values for each column\n",
    "dataset.nunique()"
   ]
  },
  {
   "cell_type": "code",
   "execution_count": 42,
   "metadata": {
    "execution": {
     "iopub.execute_input": "2021-03-23T20:33:46.183450Z",
     "iopub.status.busy": "2021-03-23T20:33:46.182692Z",
     "iopub.status.idle": "2021-03-23T20:33:46.201282Z",
     "shell.execute_reply": "2021-03-23T20:33:46.201862Z"
    },
    "papermill": {
     "duration": 0.050889,
     "end_time": "2021-03-23T20:33:46.202052",
     "exception": false,
     "start_time": "2021-03-23T20:33:46.151163",
     "status": "completed"
    },
    "tags": []
   },
   "outputs": [
    {
     "data": {
      "text/plain": [
       "Order Number             0\n",
       "Order Status             0\n",
       "Book Name                2\n",
       "Order Date & Time        0\n",
       "City                     1\n",
       "Payment Method          10\n",
       "Total items              0\n",
       "Total weight (grams)     0\n",
       "dtype: int64"
      ]
     },
     "execution_count": 42,
     "metadata": {},
     "output_type": "execute_result"
    }
   ],
   "source": [
    "# Checking null values\n",
    "dataset.isnull().sum()"
   ]
  },
  {
   "cell_type": "markdown",
   "metadata": {
    "papermill": {
     "duration": 0.03117,
     "end_time": "2021-03-23T20:33:46.261995",
     "exception": false,
     "start_time": "2021-03-23T20:33:46.230825",
     "status": "completed"
    },
    "tags": []
   },
   "source": [
    "The 'Book Name' contains 2 null, so it can be replaced with the best seller book in the list. The 'City' contains 1 null, so, again it will be replaced with the city name of highest count number. And the 'Payment Method' which contains 10 nulls will also be replaced by the payment method mostly used."
   ]
  },
  {
   "cell_type": "code",
   "execution_count": 43,
   "metadata": {
    "execution": {
     "iopub.execute_input": "2021-03-23T20:33:46.328888Z",
     "iopub.status.busy": "2021-03-23T20:33:46.328061Z",
     "iopub.status.idle": "2021-03-23T20:33:46.344923Z",
     "shell.execute_reply": "2021-03-23T20:33:46.345580Z"
    },
    "papermill": {
     "duration": 0.053181,
     "end_time": "2021-03-23T20:33:46.345779",
     "exception": false,
     "start_time": "2021-03-23T20:33:46.292598",
     "status": "completed"
    },
    "tags": []
   },
   "outputs": [
    {
     "data": {
      "text/plain": [
       "انٹرنیٹ سے پیسہ کمائیں                                                                                                                                                                                                                                                                                                                                                              2579\n",
       "Python Programming                                                                                                                                                                                                                                                                                                                                                                  1540\n",
       "Blockchain, Cryptocurrency And Bitcoin                                                                                                                                                                                                                                                                                                                                              1067\n",
       "Product Management                                                                                                                                                                                                                                                                                                                                                                  1041\n",
       "Artificial Intelligence                                                                                                                                                                                                                                                                                                                                                              900\n",
       "Justju ka safar-1                                                                                                                                                                                                                                                                                                                                                                    881\n",
       "ڈیٹا سائنس ۔ ایک تعارف                                                                                                                                                                                                                                                                                                                                                               495\n",
       "Lucky Draw - Free Book                                                                                                                                                                                                                                                                                                                                                               487\n",
       "Molo Masali                                                                                                                                                                                                                                                                                                                                                                          422\n",
       "Column Nigari Kese Sekhain                                                                                                                                                                                                                                                                                                                                                           418\n",
       "(C++)                                                                                                                                                                                                                                                                                                                                                                                372\n",
       "Sukkur To Florida                                                                                                                                                                                                                                                                                                                                                                    352\n",
       "Python Programming- Release Date: August 14, 2020                                                                                                                                                                                                                                                                                                                                    348\n",
       "مشین لرننگ                                                                                                                                                                                                                                                                                                                                                                           266\n",
       "انٹرنیٹ سے پیسہ کمائیں؟- مستحقین زکواة                                                                                                                                                                                                                                                                                                                                               258\n",
       "ڈیٹا سائنس                                                                                                                                                                                                                                                                                                                                                                           207\n",
       "(C++) ++سی/سی                                                                                                                                                                                                                                                                                                                                                                        203\n",
       "Muslim Youth Science and Islam                                                                                                                                                                                                                                                                                                                                                       198\n",
       "ارفع کریم                                                                                                                                                                                                                                                                                                                                                                            176\n",
       "Hazir Ghayab                                                                                                                                                                                                                                                                                                                                                                         172\n",
       "Linux - An Introduction                                                                                                                                                                                                                                                                                                                                                              168\n",
       "Waqfa e Pareshani                                                                                                                                                                                                                                                                                                                                                                    163\n",
       "Data Science                                                                                                                                                                                                                                                                                                                                                                         142\n",
       "بلاک چین اور کرپٹو کرنسی                                                                                                                                                                                                                                                                                                                                                             134\n",
       "R ka Taaruf                                                                                                                                                                                                                                                                                                                                                                          130\n",
       "Gosha e Tanhai                                                                                                                                                                                                                                                                                                                                                                       123\n",
       "Molo Masali - مولو مصلی                                                                                                                                                                                                                                                                                                                                                              112\n",
       "Introduction to Blockchain with Case Studies                                                                                                                                                                                                                                                                                                                                         107\n",
       "Aik Pagal ki Diary                                                                                                                                                                                                                                                                                                                                                                   103\n",
       "Asbaq E Tarikh Set                                                                                                                                                                                                                                                                                                                                                                    95\n",
       "                                                                                                                                                                                                                                                                                                                                                                                    ... \n",
       "JAVA  جاوا 2                                                                                                                                                                                                                                                                                                                                                                           1\n",
       "Python Programming/ایک تھا الگورتھم/R ka Taaruf/Artificial Intelligence/Blockchain, Cryptocurrency And Bitcoin/Waqfa e Pareshani/ڈیٹا سائنس/Book Band kamron ki Muhabbat/Linux - An Introduction/شوگر اپنا علاج خود کیجئے/Aaye Janwar Palty hain/Justju ka safar-1/Surgery - 1 taruf/Buzurgo ki Izzat/Chiyunti Makri or Shehd ki Makhi/Fun or Dastakariyan/Hum jinsiyat ka fitna       1\n",
       "مشین لرننگ/Artificial Intelligence/Linux - An Introduction/ڈیٹا سائنس                                                                                                                                                                                                                                                                                                                  1\n",
       "GADARIAA/Blockchain, Cryptocurrency And Bitcoin/Artificial Intelligence/Molo Masali                                                                                                                                                                                                                                                                                                    1\n",
       "ڈیٹا سائنس/Artificial Intelligence/Python Programming/مشین لرننگ/انٹرنیٹ سے پیسہ کمائیں/ایک تھا الگورتھم                                                                                                                                                                                                                                                                               1\n",
       "Aadad-o-ashkal/Aman Kahaniyan/Bachown kay liya muntakhib kahanian/Chand kahan chala giao/Jin dada aur dosri kahanian/Rang barangi kahania/Riazi kay dilchasp karishmay                                                                                                                                                                                                                 1\n",
       "Python Programming/انٹرنیٹ سے پیسہ کمائیں/Waqfa e Pareshani                                                                                                                                                                                                                                                                                                                            1\n",
       "Artificial Intelligence/انٹرنیٹ سے پیسہ کمائیں/Python Programming/Linux - An Introduction/Masnoi Zahanat/Blockchain, Cryptocurrency And Bitcoin                                                                                                                                                                                                                                        1\n",
       "Aadhi Bivi/Aathvan Aadmi/Askaram/Bahut Bari Bala/Big Challange/Birth Stone/Black Crime/Chota Mujrim/Akhri Jhatka/Anjani taqat                                                                                                                                                                                                                                                          1\n",
       "Justju ka safar-1/Book Band kamron ki Muhabbat/Adhoray Gunnah/Har Shaye Ka Nazria                                                                                                                                                                                                                                                                                                      1\n",
       "Band kamron ki Muhabbat/A Brief History of Money/Kaggle for Begginers/Introduction to Blockchain with Case Studies/R ka Taaruf  آر کا تعارف                                                                                                                                                                                                                                            1\n",
       "Artificial Intelligence/انٹرنیٹ سے پیسہ کمائیں/Introduction to Blockchain with Case Studies                                                                                                                                                                                                                                                                                            1\n",
       "Book Band kamron ki Muhabbat/Justju ka safar-1/Odyssey of Self/Shaoor                                                                                                                                                                                                                                                                                                                  1\n",
       "Book Band kamron ki Muhabbat/Aik Yaadgar Mushaira/A Brief History of Money/Hayat e Saeed/انٹرنیٹ سے پیسہ کمائیں/(C++)/Artificial Intelligence                                                                                                                                                                                                                                          1\n",
       "Artificial Intelligence/Introduction to Blockchain with Case Studies/Masnoi Zahanat/Odyssey of Self                                                                                                                                                                                                                                                                                    1\n",
       "انٹرنیٹ سے پیسہ کمائیں/Aadam Khor Wehshi: Maut Ka Taaqub (Book 18)                                                                                                                                                                                                                                                                                                                     1\n",
       "مشین لرننگ/ڈیٹا سائنس/Bilal ba kamal/SPACE EXPLORATION/Blockchain, Cryptocurrency And Bitcoin                                                                                                                                                                                                                                                                                          1\n",
       "Hazir Ghayab/فردوس بریں                                                                                                                                                                                                                                                                                                                                                                1\n",
       "Birth Stone/Asadam                                                                                                                                                                                                                                                                                                                                                                     1\n",
       "Changez Khan/Adhoray Gunnah/Molo Masali/Sultan Muhammad Fateh/Kamyabi Ka Paigham By Qasim Ali Shah                                                                                                                                                                                                                                                                                     1\n",
       "SHIKARIYAT KI NAQABLE FARMOSH DASTANAIN/Hazir Ghayab/Animals: Step-by-step Instructions for 26 Captivating Creatures/SHIKARIYAT KI NAQABLE FARMOSH DASTANAIN - PART 2/Roshni ke Jangju/The Pilgrim's Progress                                                                                                                                                                          1\n",
       "Artificial Intelligence/R ka Taaruf/ڈیٹا سائنس/مشین لرننگ                                                                                                                                                                                                                                                                                                                              1\n",
       "Quran aur Jadid Science                                                                                                                                                                                                                                                                                                                                                                1\n",
       "بوسنیا پر کیا گذری؟/انٹرنیٹ سے پیسہ کمائیں/Python Programming/Blockchain, Cryptocurrency And Bitcoin/Product Management/Muslim Youth Science and Islam/Artificial Intelligence/Introduction to Blockchain with Case Studies/Book Band kamron ki Muhabbat                                                                                                                               1\n",
       "Molo Masali - مولو مصلی/Qamar Dard Apna Elaaj Khud Karay by Dr. Majid Mushtaq/Irteqa Shaheen - ارتقاء شاہین/Shaoor شعور۔ علم سے آگہی کا سفر/Justuju ka Safar جستجو کا سفر                                                                                                                                                                                                              1\n",
       "(C++)/Linux - An Introduction  (Release Data - October 3, 2020)/Python Programming/Artificial Intelligence/Blockchain, Cryptocurrency And Bitcoin                                                                                                                                                                                                                                      1\n",
       "Product Management/انٹرنیٹ سے پیسہ کمائیں/Sukkur To Florida/ایک تھا الگورتھم                                                                                                                                                                                                                                                                                                           1\n",
       "Artificial Intelligence/Data Science/R ka Taaruf                                                                                                                                                                                                                                                                                                                                       1\n",
       "SHIKAR AUR ASAYB/SHIKARIYAT KI NAQABLE FARMOSH DASTANAIN - PART 3/SHIKARIYAT KI NAQABLE FARMOSH DASTANAIN - PART 4                                                                                                                                                                                                                                                                     1\n",
       "Book Band kamron ki Muhabbat/Introduction to Blockchain with Case Studies/Linux - An Introduction/Python Programming                                                                                                                                                                                                                                                                   1\n",
       "Name: Book Name, Length: 3525, dtype: int64"
      ]
     },
     "execution_count": 43,
     "metadata": {},
     "output_type": "execute_result"
    }
   ],
   "source": [
    "# The count for each book\n",
    "dataset['Book Name'].value_counts()"
   ]
  },
  {
   "cell_type": "code",
   "execution_count": 44,
   "metadata": {
    "execution": {
     "iopub.execute_input": "2021-03-23T20:33:46.410049Z",
     "iopub.status.busy": "2021-03-23T20:33:46.409213Z",
     "iopub.status.idle": "2021-03-23T20:33:46.424637Z",
     "shell.execute_reply": "2021-03-23T20:33:46.425215Z"
    },
    "papermill": {
     "duration": 0.048658,
     "end_time": "2021-03-23T20:33:46.425462",
     "exception": false,
     "start_time": "2021-03-23T20:33:46.376804",
     "status": "completed"
    },
    "tags": []
   },
   "outputs": [],
   "source": [
    "# Pick the best selling book and replace null values with it\n",
    "\n",
    "best_book = dataset['Book Name'].value_counts().index[0]\n",
    "\n",
    "dataset['Book Name'] = dataset['Book Name'].fillna(best_book)"
   ]
  },
  {
   "cell_type": "code",
   "execution_count": 45,
   "metadata": {
    "execution": {
     "iopub.execute_input": "2021-03-23T20:33:46.490157Z",
     "iopub.status.busy": "2021-03-23T20:33:46.489385Z",
     "iopub.status.idle": "2021-03-23T20:33:46.504458Z",
     "shell.execute_reply": "2021-03-23T20:33:46.504981Z"
    },
    "papermill": {
     "duration": 0.049354,
     "end_time": "2021-03-23T20:33:46.505185",
     "exception": false,
     "start_time": "2021-03-23T20:33:46.455831",
     "status": "completed"
    },
    "tags": []
   },
   "outputs": [
    {
     "data": {
      "text/plain": [
       "Karachi                                          2332\n",
       "Lahore                                           1993\n",
       "Islamabad                                         859\n",
       "Rawalpindi                                        645\n",
       "Faisalabad                                        478\n",
       "Multan                                            427\n",
       "Peshawar                                          427\n",
       "Gujranwala                                        262\n",
       "karachi                                           253\n",
       "Hyderabad                                         240\n",
       "Quetta                                            223\n",
       "Sialkot                                           202\n",
       "Bahawalpur                                        167\n",
       "Sargodha                                          123\n",
       "lahore                                            112\n",
       "Gujrat                                            102\n",
       "Sahiwal                                            97\n",
       "Abbottabad                                         95\n",
       "KARACHI                                            94\n",
       "Okara                                              91\n",
       "Sheikhupura                                        84\n",
       "Mardan                                             80\n",
       "LAHORE                                             79\n",
       "Sukkur                                             77\n",
       "Haripur                                            77\n",
       "Chakwal                                            76\n",
       "Kasur                                              63\n",
       "Attock                                             62\n",
       "Rahim yar khan                                     60\n",
       "Vehari                                             60\n",
       "                                                 ... \n",
       "Ihsanabad Wasu Road M.B.Din                         1\n",
       "RAJAN PUR                                           1\n",
       "Kohat Khyber pakhtunkhwa                            1\n",
       "Gujrat/Lalamusa                                     1\n",
       "Sahja, tehsil khan pur disstt. Rahim yar khan       1\n",
       "Malakand Batkhala                                   1\n",
       "Timergara-Dir lower                                 1\n",
       "Rahim yar khan / khanpur city                       1\n",
       "Rohillan Wali                                       1\n",
       "Chamman city dist Qila Abdullah khsn                1\n",
       "Turlandi/ Swabi                                     1\n",
       "Mandi shah jevna                                    1\n",
       "Mian Channu.                                        1\n",
       "Sargodha/ Kotmomin                                  1\n",
       "District Naushahro feroze, Bhiria Road City         1\n",
       "118 block D satellite town Sargodha                 1\n",
       "Dadyal. District mirpur                             1\n",
       "DAJAL (Tehsil JamPur, District RajanPur)            1\n",
       "54/2L یاسر غفار ٹاؤن اوکاڑہ                         1\n",
       "ROHRI                                               1\n",
       "Frij Murar Deira Dubai                              1\n",
       "dir lower-timergara                                 1\n",
       "Marghazar Colony Lahore                             1\n",
       "Thutha Rai Bahadur,Teh Kharian,Gujrat               1\n",
       "Dear Ghazi Khan                                     1\n",
       "Tehsil: Kabal, District: Swat KPK                   1\n",
       "Icon valley, Raiwind Road,Lahore                    1\n",
       "Pahar pur, D.I.Khan                                 1\n",
       "Chakdara, Lower Dir                                 1\n",
       "District battagram                                  1\n",
       "Name: City, Length: 4163, dtype: int64"
      ]
     },
     "execution_count": 45,
     "metadata": {},
     "output_type": "execute_result"
    }
   ],
   "source": [
    "# Find the count for each city\n",
    "\n",
    "dataset['City'].value_counts()"
   ]
  },
  {
   "cell_type": "code",
   "execution_count": 46,
   "metadata": {
    "execution": {
     "iopub.execute_input": "2021-03-23T20:33:46.572574Z",
     "iopub.status.busy": "2021-03-23T20:33:46.571763Z",
     "iopub.status.idle": "2021-03-23T20:33:46.587072Z",
     "shell.execute_reply": "2021-03-23T20:33:46.587674Z"
    },
    "papermill": {
     "duration": 0.05215,
     "end_time": "2021-03-23T20:33:46.587919",
     "exception": false,
     "start_time": "2021-03-23T20:33:46.535769",
     "status": "completed"
    },
    "tags": []
   },
   "outputs": [],
   "source": [
    "# Pick the city used most frequently, and replace null values with it\n",
    "\n",
    "best_city = dataset['City'].value_counts().index[0]\n",
    "\n",
    "dataset['City'] = dataset['City'].fillna(best_city)"
   ]
  },
  {
   "cell_type": "code",
   "execution_count": 47,
   "metadata": {
    "execution": {
     "iopub.execute_input": "2021-03-23T20:33:46.653920Z",
     "iopub.status.busy": "2021-03-23T20:33:46.653123Z",
     "iopub.status.idle": "2021-03-23T20:33:46.666632Z",
     "shell.execute_reply": "2021-03-23T20:33:46.665984Z"
    },
    "papermill": {
     "duration": 0.047599,
     "end_time": "2021-03-23T20:33:46.666791",
     "exception": false,
     "start_time": "2021-03-23T20:33:46.619192",
     "status": "completed"
    },
    "tags": []
   },
   "outputs": [
    {
     "data": {
      "text/plain": [
       "Cash on delivery          17470\n",
       "EasyPaisa                   697\n",
       "JazzCash                    596\n",
       "BankTransfer                459\n",
       "Cash on Delivery (COD)        7\n",
       "Name: Payment Method, dtype: int64"
      ]
     },
     "execution_count": 47,
     "metadata": {},
     "output_type": "execute_result"
    }
   ],
   "source": [
    "# Find count for each payment method\n",
    "\n",
    "dataset['Payment Method'].value_counts()"
   ]
  },
  {
   "cell_type": "markdown",
   "metadata": {
    "papermill": {
     "duration": 0.031951,
     "end_time": "2021-03-23T20:33:46.732629",
     "exception": false,
     "start_time": "2021-03-23T20:33:46.700678",
     "status": "completed"
    },
    "tags": []
   },
   "source": [
    "In the 'Payment Method' there are two values 'Cash on delivery' and 'Cash on Delivery (COD)' which are same. So, we will combine these two values into one value 'Cash on Delivery'."
   ]
  },
  {
   "cell_type": "code",
   "execution_count": 48,
   "metadata": {
    "execution": {
     "iopub.execute_input": "2021-03-23T20:33:46.808845Z",
     "iopub.status.busy": "2021-03-23T20:33:46.808022Z",
     "iopub.status.idle": "2021-03-23T20:33:46.810416Z",
     "shell.execute_reply": "2021-03-23T20:33:46.810952Z"
    },
    "papermill": {
     "duration": 0.046095,
     "end_time": "2021-03-23T20:33:46.811165",
     "exception": false,
     "start_time": "2021-03-23T20:33:46.765070",
     "status": "completed"
    },
    "tags": []
   },
   "outputs": [],
   "source": [
    "# Combine 'Cash on delivery' and 'Cash on Delivery (COD)' as 'Cash on Delivery'\n",
    "dataset['Payment Method'].replace({'Cash on delivery': 'Cash on Delivery', 'Cash on Delivery (COD)': 'Cash on Delivery'}, inplace=True)"
   ]
  },
  {
   "cell_type": "code",
   "execution_count": 49,
   "metadata": {
    "execution": {
     "iopub.execute_input": "2021-03-23T20:33:46.877933Z",
     "iopub.status.busy": "2021-03-23T20:33:46.877161Z",
     "iopub.status.idle": "2021-03-23T20:33:46.893049Z",
     "shell.execute_reply": "2021-03-23T20:33:46.892266Z"
    },
    "papermill": {
     "duration": 0.050794,
     "end_time": "2021-03-23T20:33:46.893244",
     "exception": false,
     "start_time": "2021-03-23T20:33:46.842450",
     "status": "completed"
    },
    "tags": []
   },
   "outputs": [],
   "source": [
    "# Pick the payment method used most frequently, and replace null values with it\n",
    "\n",
    "best_method = dataset['Payment Method'].value_counts().index[0]\n",
    "best_method\n",
    "dataset['Payment Method'] = dataset['Payment Method'].fillna(best_method)"
   ]
  },
  {
   "cell_type": "code",
   "execution_count": 50,
   "metadata": {
    "execution": {
     "iopub.execute_input": "2021-03-23T20:33:46.961167Z",
     "iopub.status.busy": "2021-03-23T20:33:46.960449Z",
     "iopub.status.idle": "2021-03-23T20:33:46.980837Z",
     "shell.execute_reply": "2021-03-23T20:33:46.981376Z"
    },
    "papermill": {
     "duration": 0.056858,
     "end_time": "2021-03-23T20:33:46.981589",
     "exception": false,
     "start_time": "2021-03-23T20:33:46.924731",
     "status": "completed"
    },
    "tags": []
   },
   "outputs": [
    {
     "data": {
      "text/plain": [
       "Order Number            0\n",
       "Order Status            0\n",
       "Book Name               0\n",
       "Order Date & Time       0\n",
       "City                    0\n",
       "Payment Method          0\n",
       "Total items             0\n",
       "Total weight (grams)    0\n",
       "dtype: int64"
      ]
     },
     "execution_count": 50,
     "metadata": {},
     "output_type": "execute_result"
    }
   ],
   "source": [
    "# Nowh check if null value exist or not\n",
    "dataset.isnull().sum()"
   ]
  },
  {
   "cell_type": "markdown",
   "metadata": {
    "papermill": {
     "duration": 0.036634,
     "end_time": "2021-03-23T20:33:47.054255",
     "exception": false,
     "start_time": "2021-03-23T20:33:47.017621",
     "status": "completed"
    },
    "tags": []
   },
   "source": [
    "# 1) Top 10 best selling books"
   ]
  },
  {
   "cell_type": "code",
   "execution_count": 51,
   "metadata": {
    "execution": {
     "iopub.execute_input": "2021-03-23T20:33:47.126976Z",
     "iopub.status.busy": "2021-03-23T20:33:47.126250Z",
     "iopub.status.idle": "2021-03-23T20:33:47.159165Z",
     "shell.execute_reply": "2021-03-23T20:33:47.159701Z"
    },
    "papermill": {
     "duration": 0.07093,
     "end_time": "2021-03-23T20:33:47.159906",
     "exception": false,
     "start_time": "2021-03-23T20:33:47.088976",
     "status": "completed"
    },
    "tags": []
   },
   "outputs": [
    {
     "data": {
      "text/plain": [
       "انٹرنیٹ سے پیسہ کمائیں                    2581\n",
       "Python Programming                        1540\n",
       "Blockchain, Cryptocurrency And Bitcoin    1067\n",
       "Product Management                        1041\n",
       "Artificial Intelligence                    900\n",
       "Justju ka safar-1                          881\n",
       "ڈیٹا سائنس ۔ ایک تعارف                     495\n",
       "Lucky Draw - Free Book                     487\n",
       "Molo Masali                                422\n",
       "Column Nigari Kese Sekhain                 418\n",
       "Name: Book Name, dtype: int64"
      ]
     },
     "execution_count": 51,
     "metadata": {},
     "output_type": "execute_result"
    }
   ],
   "source": [
    "# Show top 10 books\n",
    "best_book = dataset['Book Name'].value_counts()[0:10]\n",
    "best_book"
   ]
  },
  {
   "cell_type": "code",
   "execution_count": 52,
   "metadata": {
    "execution": {
     "iopub.execute_input": "2021-03-23T20:33:47.231177Z",
     "iopub.status.busy": "2021-03-23T20:33:47.230462Z",
     "iopub.status.idle": "2021-03-23T20:33:47.553187Z",
     "shell.execute_reply": "2021-03-23T20:33:47.552004Z"
    },
    "papermill": {
     "duration": 0.358591,
     "end_time": "2021-03-23T20:33:47.553392",
     "exception": false,
     "start_time": "2021-03-23T20:33:47.194801",
     "status": "completed"
    },
    "tags": []
   },
   "outputs": [
    {
     "data": {
      "text/plain": [
       "Text(0, 0.5, 'Each book frequency')"
      ]
     },
     "execution_count": 52,
     "metadata": {},
     "output_type": "execute_result"
    },
    {
     "data": {
      "image/png": "[encoded data removed]",
      "text/plain": [
       "<Figure size 864x432 with 1 Axes>"
      ]
     },
     "metadata": {
      "needs_background": "light"
     },
     "output_type": "display_data"
    }
   ],
   "source": [
    "# Show top 10 books with Matplotlib\n",
    "plt.figure(figsize=(12,6))\n",
    "\n",
    "best_book.plot(kind='bar', title='Top 10 Best Selling Books')\n",
    "\n",
    "plt.xlabel('Books Name')\n",
    "plt.ylabel('Each book frequency')"
   ]
  },
  {
   "cell_type": "code",
   "execution_count": 53,
   "metadata": {
    "execution": {
     "iopub.execute_input": "2021-03-23T20:33:47.763425Z",
     "iopub.status.busy": "2021-03-23T20:33:47.760611Z",
     "iopub.status.idle": "2021-03-23T20:33:47.991936Z",
     "shell.execute_reply": "2021-03-23T20:33:47.992498Z"
    },
    "papermill": {
     "duration": 0.404196,
     "end_time": "2021-03-23T20:33:47.992685",
     "exception": false,
     "start_time": "2021-03-23T20:33:47.588489",
     "status": "completed"
    },
    "tags": []
   },
   "outputs": [
    {
     "data": {
      "image/png": "[encoded data removed]",
      "text/plain": [
       "<Figure size 1080x432 with 1 Axes>"
      ]
     },
     "metadata": {
      "needs_background": "light"
     },
     "output_type": "display_data"
    }
   ],
   "source": [
    "# Show the top 10 books with Searborn\n",
    "fig, ax = plt.subplots()\n",
    "ax = sns.barplot(x=best_book.index,y=best_book.values)\n",
    "ax.set_xlabel('Books Name', fontsize=20)\n",
    "ax.set_ylabel('Selling Frequency', fontsize=20)\n",
    "ax.set_xticklabels(best_book.index, rotation='vertical', fontsize=10)\n",
    "fig.set_size_inches([15,6])\n",
    "plt.show()"
   ]
  },
  {
   "cell_type": "markdown",
   "metadata": {
    "papermill": {
     "duration": 0.036455,
     "end_time": "2021-03-23T20:33:48.066860",
     "exception": false,
     "start_time": "2021-03-23T20:33:48.030405",
     "status": "completed"
    },
    "tags": []
   },
   "source": [
    "# 2) Visualize order status frequency"
   ]
  },
  {
   "cell_type": "code",
   "execution_count": 54,
   "metadata": {
    "execution": {
     "iopub.execute_input": "2021-03-23T20:33:48.153839Z",
     "iopub.status.busy": "2021-03-23T20:33:48.153064Z",
     "iopub.status.idle": "2021-03-23T20:33:48.160871Z",
     "shell.execute_reply": "2021-03-23T20:33:48.160094Z"
    },
    "papermill": {
     "duration": 0.058501,
     "end_time": "2021-03-23T20:33:48.161029",
     "exception": false,
     "start_time": "2021-03-23T20:33:48.102528",
     "status": "completed"
    },
    "tags": []
   },
   "outputs": [
    {
     "data": {
      "text/html": [
       "<div>\n",
       "<style scoped>\n",
       "    .dataframe tbody tr th:only-of-type {\n",
       "        vertical-align: middle;\n",
       "    }\n",
       "\n",
       "    .dataframe tbody tr th {\n",
       "        vertical-align: top;\n",
       "    }\n",
       "\n",
       "    .dataframe thead th {\n",
       "        text-align: right;\n",
       "    }\n",
       "</style>\n",
       "<table border=\"1\" class=\"dataframe\">\n",
       "  <thead>\n",
       "    <tr style=\"text-align: right;\">\n",
       "      <th></th>\n",
       "      <th>Order Number</th>\n",
       "      <th>Order Status</th>\n",
       "      <th>Book Name</th>\n",
       "      <th>Order Date &amp; Time</th>\n",
       "      <th>City</th>\n",
       "      <th>Payment Method</th>\n",
       "      <th>Total items</th>\n",
       "      <th>Total weight (grams)</th>\n",
       "    </tr>\n",
       "  </thead>\n",
       "  <tbody>\n",
       "    <tr>\n",
       "      <th>0</th>\n",
       "      <td>307</td>\n",
       "      <td>Completed</td>\n",
       "      <td>Bitcoin Blockchain aur Crypto Currency - FREE ...</td>\n",
       "      <td>10/3/2019 15:03</td>\n",
       "      <td>faisalabad</td>\n",
       "      <td>Cash on Delivery</td>\n",
       "      <td>2</td>\n",
       "      <td>200.0</td>\n",
       "    </tr>\n",
       "    <tr>\n",
       "      <th>1</th>\n",
       "      <td>308</td>\n",
       "      <td>Completed</td>\n",
       "      <td>Kaggle for Begginers</td>\n",
       "      <td>10/3/2019 15:54</td>\n",
       "      <td>Rawalpindi</td>\n",
       "      <td>Cash on Delivery</td>\n",
       "      <td>1</td>\n",
       "      <td>200.0</td>\n",
       "    </tr>\n",
       "    <tr>\n",
       "      <th>2</th>\n",
       "      <td>309</td>\n",
       "      <td>Completed</td>\n",
       "      <td>Kaggle for Begginers/Bitcoin Blockchain aur Cr...</td>\n",
       "      <td>10/3/2019 16:09</td>\n",
       "      <td>Hyderabad</td>\n",
       "      <td>Cash on Delivery</td>\n",
       "      <td>2</td>\n",
       "      <td>200.0</td>\n",
       "    </tr>\n",
       "    <tr>\n",
       "      <th>3</th>\n",
       "      <td>310</td>\n",
       "      <td>Cancelled</td>\n",
       "      <td>Kaggle for Begginers</td>\n",
       "      <td>10/3/2019 16:42</td>\n",
       "      <td>Rawalpindi</td>\n",
       "      <td>Cash on Delivery</td>\n",
       "      <td>1</td>\n",
       "      <td>200.0</td>\n",
       "    </tr>\n",
       "    <tr>\n",
       "      <th>4</th>\n",
       "      <td>311</td>\n",
       "      <td>Completed</td>\n",
       "      <td>Bit Coin Block Chain aur Crypto Currency بٹ کو...</td>\n",
       "      <td>10/3/2019 16:44</td>\n",
       "      <td>Karachi</td>\n",
       "      <td>Cash on Delivery</td>\n",
       "      <td>1</td>\n",
       "      <td>200.0</td>\n",
       "    </tr>\n",
       "  </tbody>\n",
       "</table>\n",
       "</div>"
      ],
      "text/plain": [
       "   Order Number Order Status  \\\n",
       "0           307    Completed   \n",
       "1           308    Completed   \n",
       "2           309    Completed   \n",
       "3           310    Cancelled   \n",
       "4           311    Completed   \n",
       "\n",
       "                                           Book Name Order Date & Time  \\\n",
       "0  Bitcoin Blockchain aur Crypto Currency - FREE ...   10/3/2019 15:03   \n",
       "1                               Kaggle for Begginers   10/3/2019 15:54   \n",
       "2  Kaggle for Begginers/Bitcoin Blockchain aur Cr...   10/3/2019 16:09   \n",
       "3                               Kaggle for Begginers   10/3/2019 16:42   \n",
       "4  Bit Coin Block Chain aur Crypto Currency بٹ کو...   10/3/2019 16:44   \n",
       "\n",
       "         City    Payment Method  Total items  Total weight (grams)  \n",
       "0  faisalabad  Cash on Delivery            2                 200.0  \n",
       "1  Rawalpindi  Cash on Delivery            1                 200.0  \n",
       "2   Hyderabad  Cash on Delivery            2                 200.0  \n",
       "3  Rawalpindi  Cash on Delivery            1                 200.0  \n",
       "4    Karachi   Cash on Delivery            1                 200.0  "
      ]
     },
     "execution_count": 54,
     "metadata": {},
     "output_type": "execute_result"
    }
   ],
   "source": [
    "# Show the first five rows\n",
    "dataset.head()"
   ]
  },
  {
   "cell_type": "code",
   "execution_count": 55,
   "metadata": {
    "execution": {
     "iopub.execute_input": "2021-03-23T20:33:48.247682Z",
     "iopub.status.busy": "2021-03-23T20:33:48.246932Z",
     "iopub.status.idle": "2021-03-23T20:33:48.251208Z",
     "shell.execute_reply": "2021-03-23T20:33:48.250581Z"
    },
    "papermill": {
     "duration": 0.054101,
     "end_time": "2021-03-23T20:33:48.251392",
     "exception": false,
     "start_time": "2021-03-23T20:33:48.197291",
     "status": "completed"
    },
    "tags": []
   },
   "outputs": [
    {
     "data": {
      "text/plain": [
       "Completed    17948\n",
       "Returned      1142\n",
       "Cancelled      149\n",
       "Name: Order Status, dtype: int64"
      ]
     },
     "execution_count": 55,
     "metadata": {},
     "output_type": "execute_result"
    }
   ],
   "source": [
    "# Check each order status and their frequency\n",
    "orders = dataset['Order Status'].value_counts()\n",
    "orders"
   ]
  },
  {
   "cell_type": "code",
   "execution_count": 56,
   "metadata": {
    "execution": {
     "iopub.execute_input": "2021-03-23T20:33:48.349521Z",
     "iopub.status.busy": "2021-03-23T20:33:48.348689Z",
     "iopub.status.idle": "2021-03-23T20:33:48.483499Z",
     "shell.execute_reply": "2021-03-23T20:33:48.483998Z"
    },
    "papermill": {
     "duration": 0.194763,
     "end_time": "2021-03-23T20:33:48.484193",
     "exception": false,
     "start_time": "2021-03-23T20:33:48.289430",
     "status": "completed"
    },
    "tags": []
   },
   "outputs": [
    {
     "data": {
      "image/png": "[encoded data removed]",
      "text/plain": [
       "<Figure size 720x432 with 1 Axes>"
      ]
     },
     "metadata": {
      "needs_background": "light"
     },
     "output_type": "display_data"
    }
   ],
   "source": [
    "# Show the order status with bar chart\n",
    "fig, ax = plt.subplots()\n",
    "ax = sns.barplot(x=orders.index,y=orders.values)\n",
    "ax.set_xlabel('Order Status', fontsize=20)\n",
    "ax.set_ylabel('Orders Frequency', fontsize=20)\n",
    "ax.set_xticklabels(orders.index, rotation='vertical', fontsize=10)\n",
    "fig.set_size_inches([10,6])\n",
    "plt.show()"
   ]
  },
  {
   "cell_type": "markdown",
   "metadata": {
    "papermill": {
     "duration": 0.038008,
     "end_time": "2021-03-23T20:33:48.559818",
     "exception": false,
     "start_time": "2021-03-23T20:33:48.521810",
     "status": "completed"
    },
    "tags": []
   },
   "source": [
    "# 3) Find a correlation between date and time with order status"
   ]
  },
  {
   "cell_type": "code",
   "execution_count": 57,
   "metadata": {
    "execution": {
     "iopub.execute_input": "2021-03-23T20:33:48.641123Z",
     "iopub.status.busy": "2021-03-23T20:33:48.640401Z",
     "iopub.status.idle": "2021-03-23T20:33:50.573351Z",
     "shell.execute_reply": "2021-03-23T20:33:50.572783Z"
    },
    "papermill": {
     "duration": 1.97456,
     "end_time": "2021-03-23T20:33:50.573507",
     "exception": false,
     "start_time": "2021-03-23T20:33:48.598947",
     "status": "completed"
    },
    "tags": []
   },
   "outputs": [
    {
     "data": {
      "text/plain": [
       "2020    16108\n",
       "2021     2679\n",
       "2019      452\n",
       "Name: Order Date & Time, dtype: int64"
      ]
     },
     "execution_count": 57,
     "metadata": {},
     "output_type": "execute_result"
    }
   ],
   "source": [
    "# Pick the year from 'Order Date & Time' field, and find the orders in each year\n",
    "year = pd.DatetimeIndex(dataset['Order Date & Time']).year.value_counts()\n",
    "year\n"
   ]
  },
  {
   "cell_type": "code",
   "execution_count": 58,
   "metadata": {
    "execution": {
     "iopub.execute_input": "2021-03-23T20:33:50.677704Z",
     "iopub.status.busy": "2021-03-23T20:33:50.676953Z",
     "iopub.status.idle": "2021-03-23T20:33:50.850553Z",
     "shell.execute_reply": "2021-03-23T20:33:50.851125Z"
    },
    "papermill": {
     "duration": 0.238497,
     "end_time": "2021-03-23T20:33:50.851325",
     "exception": false,
     "start_time": "2021-03-23T20:33:50.612828",
     "status": "completed"
    },
    "tags": []
   },
   "outputs": [
    {
     "data": {
      "text/plain": [
       "<matplotlib.axes._subplots.AxesSubplot at 0x1fe8bb285c0>"
      ]
     },
     "execution_count": 58,
     "metadata": {},
     "output_type": "execute_result"
    },
    {
     "data": {
      "image/png": "[encoded data removed]",
      "text/plain": [
       "<Figure size 864x432 with 1 Axes>"
      ]
     },
     "metadata": {
      "needs_background": "light"
     },
     "output_type": "display_data"
    }
   ],
   "source": [
    "# Show the orders yearswise\n",
    "plt.figure(figsize=(12,6))\n",
    "year.plot(kind=\"bar\", title=\"Orders yearwise\")"
   ]
  },
  {
   "cell_type": "code",
   "execution_count": 59,
   "metadata": {
    "execution": {
     "iopub.execute_input": "2021-03-23T20:33:50.952495Z",
     "iopub.status.busy": "2021-03-23T20:33:50.950846Z",
     "iopub.status.idle": "2021-03-23T20:33:52.944594Z",
     "shell.execute_reply": "2021-03-23T20:33:52.943625Z"
    },
    "papermill": {
     "duration": 2.050477,
     "end_time": "2021-03-23T20:33:52.944849",
     "exception": false,
     "start_time": "2021-03-23T20:33:50.894372",
     "status": "completed"
    },
    "tags": []
   },
   "outputs": [
    {
     "data": {
      "text/plain": [
       "Saturday     4270\n",
       "Sunday       3651\n",
       "Friday       2911\n",
       "Monday       2454\n",
       "Tuesday      2043\n",
       "Wednesday    1968\n",
       "Thursday     1942\n",
       "Name: Order Date & Time, dtype: int64"
      ]
     },
     "execution_count": 59,
     "metadata": {},
     "output_type": "execute_result"
    }
   ],
   "source": [
    "# Orders count for each day\n",
    "days = pd.DatetimeIndex(dataset['Order Date & Time']).day_name().value_counts()\n",
    "days"
   ]
  },
  {
   "cell_type": "code",
   "execution_count": 60,
   "metadata": {
    "execution": {
     "iopub.execute_input": "2021-03-23T20:33:53.061767Z",
     "iopub.status.busy": "2021-03-23T20:33:53.051669Z",
     "iopub.status.idle": "2021-03-23T20:33:53.228883Z",
     "shell.execute_reply": "2021-03-23T20:33:53.228235Z"
    },
    "papermill": {
     "duration": 0.241327,
     "end_time": "2021-03-23T20:33:53.229054",
     "exception": false,
     "start_time": "2021-03-23T20:33:52.987727",
     "status": "completed"
    },
    "tags": []
   },
   "outputs": [
    {
     "data": {
      "text/plain": [
       "<matplotlib.axes._subplots.AxesSubplot at 0x1fe8bbd0a20>"
      ]
     },
     "execution_count": 60,
     "metadata": {},
     "output_type": "execute_result"
    },
    {
     "data": {
      "image/png": "[encoded data removed]",
      "text/plain": [
       "<Figure size 864x432 with 1 Axes>"
      ]
     },
     "metadata": {
      "needs_background": "light"
     },
     "output_type": "display_data"
    }
   ],
   "source": [
    "# Visulize the orders count for each day\n",
    "plt.figure(figsize=(12,6))\n",
    "days.plot(kind=\"bar\", title=\"Orders daywise\")\n"
   ]
  },
  {
   "cell_type": "markdown",
   "metadata": {
    "papermill": {
     "duration": 0.043286,
     "end_time": "2021-03-23T20:33:53.314279",
     "exception": false,
     "start_time": "2021-03-23T20:33:53.270993",
     "status": "completed"
    },
    "tags": []
   },
   "source": [
    "Maximum number of orders are on the weekends"
   ]
  },
  {
   "cell_type": "code",
   "execution_count": 61,
   "metadata": {
    "execution": {
     "iopub.execute_input": "2021-03-23T20:33:53.426118Z",
     "iopub.status.busy": "2021-03-23T20:33:53.425300Z",
     "iopub.status.idle": "2021-03-23T20:33:55.615709Z",
     "shell.execute_reply": "2021-03-23T20:33:55.614955Z"
    },
    "papermill": {
     "duration": 2.256943,
     "end_time": "2021-03-23T20:33:55.615875",
     "exception": false,
     "start_time": "2021-03-23T20:33:53.358932",
     "status": "completed"
    },
    "tags": []
   },
   "outputs": [
    {
     "data": {
      "image/png": "[encoded data removed]",
      "text/plain": [
       "<Figure size 1296x648 with 1 Axes>"
      ]
     },
     "metadata": {
      "needs_background": "light"
     },
     "output_type": "display_data"
    }
   ],
   "source": [
    "# Show the order status (Completed, Cancelled, Returned) yearwise\n",
    "fig, ax = plt.subplots()\n",
    "ax=sns.countplot(x=pd.DatetimeIndex(dataset['Order Date & Time']).year,data=dataset,hue=\"Order Status\")\n",
    "fig.set_size_inches(18,9)\n",
    "ax.set_title('Yearly Orders Status (Frequency)',fontsize=20)\n",
    "ax.set_xlabel(\"Years\",fontsize=18)\n",
    "ax.set_ylabel(\"Number of Order(s)\",fontsize=18) \n",
    "# plt.xticks(rotation=90)\n",
    "plt.show()"
   ]
  },
  {
   "cell_type": "markdown",
   "metadata": {
    "papermill": {
     "duration": 0.041811,
     "end_time": "2021-03-23T20:33:55.701757",
     "exception": false,
     "start_time": "2021-03-23T20:33:55.659946",
     "status": "completed"
    },
    "tags": []
   },
   "source": [
    "# 4) Find the corelation between city and order status"
   ]
  },
  {
   "cell_type": "code",
   "execution_count": 62,
   "metadata": {
    "execution": {
     "iopub.execute_input": "2021-03-23T20:33:55.795446Z",
     "iopub.status.busy": "2021-03-23T20:33:55.794712Z",
     "iopub.status.idle": "2021-03-23T20:33:55.810983Z",
     "shell.execute_reply": "2021-03-23T20:33:55.811524Z"
    },
    "papermill": {
     "duration": 0.067387,
     "end_time": "2021-03-23T20:33:55.811763",
     "exception": false,
     "start_time": "2021-03-23T20:33:55.744376",
     "status": "completed"
    },
    "tags": []
   },
   "outputs": [
    {
     "data": {
      "text/plain": [
       "Karachi                                                           2243\n",
       "Lahore                                                            1911\n",
       "Islamabad                                                          816\n",
       "Rawalpindi                                                         616\n",
       "Faisalabad                                                         454\n",
       "Multan                                                             399\n",
       "Peshawar                                                           396\n",
       "Gujranwala                                                         245\n",
       "karachi                                                            227\n",
       "Hyderabad                                                          216\n",
       "Quetta                                                             210\n",
       "Sialkot                                                            195\n",
       "Bahawalpur                                                         159\n",
       "Sargodha                                                           117\n",
       "lahore                                                             109\n",
       "Gujrat                                                              96\n",
       "Sahiwal                                                             93\n",
       "Abbottabad                                                          90\n",
       "KARACHI                                                             88\n",
       "Okara                                                               85\n",
       "Sheikhupura                                                         84\n",
       "Mardan                                                              76\n",
       "Haripur                                                             75\n",
       "LAHORE                                                              74\n",
       "Chakwal                                                             73\n",
       "Sukkur                                                              73\n",
       "Attock                                                              62\n",
       "Kasur                                                               58\n",
       "Rahim yar khan                                                      58\n",
       "islamabad                                                           54\n",
       "                                                                  ... \n",
       "Alharam Town Peshawar                                                1\n",
       "kamber shahdadkot.                                                   1\n",
       "Bhowana distt chiniot                                                1\n",
       "Pasrur.Sialkot                                                       1\n",
       "Tehsil Jand,District Attock                                          1\n",
       "muzafrabad                                                           1\n",
       "karakkarak                                                           1\n",
       "Soan Garden, Islamabad.                                              1\n",
       "Shahdau wandhii                                                      1\n",
       "Paris Riad Sialkot                                                   1\n",
       "Bahawaplur                                                           1\n",
       "Sara i alamgir                                                       1\n",
       "Bahria Town Lahore                                                   1\n",
       "Village jhalay post office dhudial tehsil and district chakwal       1\n",
       "PAC Kamra,                                                           1\n",
       "Pindi Gheb Attock                                                    1\n",
       "Karachi.Orangi Town                                                  1\n",
       "Central / Karachi                                                    1\n",
       "Shah Rukn-e-Alam Colony, Multan                                      1\n",
       "Purani hatiyan mirpur a.k                                            1\n",
       "پیرمحل                                                               1\n",
       "Dholka akriawal tehsil and district Jhang                            1\n",
       "kunri                                                                1\n",
       "Mundekey Goraya Daska                                                1\n",
       "MINCHINABAD                                                          1\n",
       "Kashrote Gilgit near park hotel..                                    1\n",
       "Mustufa Town, Wahdat Road, Lahore.                                   1\n",
       "Dera murad Jamali Naseerabad                                         1\n",
       "Zafarwal zilla Narowal                                               1\n",
       "arifwala                                                             1\n",
       "Name: City, Length: 3869, dtype: int64"
      ]
     },
     "execution_count": 62,
     "metadata": {},
     "output_type": "execute_result"
    }
   ],
   "source": [
    "# Completed orders citywise\n",
    "com = dataset[dataset['Order Status'] == 'Completed']\n",
    "com['City'].value_counts()"
   ]
  },
  {
   "cell_type": "code",
   "execution_count": 63,
   "metadata": {
    "execution": {
     "iopub.execute_input": "2021-03-23T20:33:55.902309Z",
     "iopub.status.busy": "2021-03-23T20:33:55.901608Z",
     "iopub.status.idle": "2021-03-23T20:33:56.192495Z",
     "shell.execute_reply": "2021-03-23T20:33:56.193071Z"
    },
    "papermill": {
     "duration": 0.3379,
     "end_time": "2021-03-23T20:33:56.193269",
     "exception": false,
     "start_time": "2021-03-23T20:33:55.855369",
     "status": "completed"
    },
    "tags": []
   },
   "outputs": [
    {
     "data": {
      "text/plain": [
       "<matplotlib.axes._subplots.AxesSubplot at 0x1fe8bbd0898>"
      ]
     },
     "execution_count": 63,
     "metadata": {},
     "output_type": "execute_result"
    },
    {
     "data": {
      "image/png": "[encoded data removed]",
      "text/plain": [
       "<Figure size 864x432 with 1 Axes>"
      ]
     },
     "metadata": {
      "needs_background": "light"
     },
     "output_type": "display_data"
    }
   ],
   "source": [
    "# Plot of first 20 cities (completed orders)\n",
    "comp = com['City'].value_counts()[0:20]\n",
    "plt.figure(figsize=(12,6))\n",
    "comp.plot(kind='bar', title='Completed orders citywise')"
   ]
  },
  {
   "cell_type": "code",
   "execution_count": 64,
   "metadata": {
    "execution": {
     "iopub.execute_input": "2021-03-23T20:33:56.287991Z",
     "iopub.status.busy": "2021-03-23T20:33:56.287274Z",
     "iopub.status.idle": "2021-03-23T20:33:56.300673Z",
     "shell.execute_reply": "2021-03-23T20:33:56.301235Z"
    },
    "papermill": {
     "duration": 0.063722,
     "end_time": "2021-03-23T20:33:56.301477",
     "exception": false,
     "start_time": "2021-03-23T20:33:56.237755",
     "status": "completed"
    },
    "tags": []
   },
   "outputs": [
    {
     "data": {
      "text/plain": [
       "Karachi                       16\n",
       "Lahore                        11\n",
       "Peshawar                       6\n",
       "karachi                        5\n",
       "Faisalabad                     4\n",
       "Rawalpindi                     4\n",
       "Islamabad                      4\n",
       "Abu Dhabi                      3\n",
       "Bahawalpur                     3\n",
       "Multan                         3\n",
       "Ameen town                     2\n",
       "Gujranwala                     2\n",
       "Okara                          2\n",
       "Pasrur                         2\n",
       "Farwaniya                      2\n",
       "Janu k khela swat              2\n",
       "Bahawalnagar                   2\n",
       "test                           2\n",
       "Taunsa                         2\n",
       "Sillan Wali road sargodha.     1\n",
       "Korangi twon                   1\n",
       "Abdurahmanzi                   1\n",
       "Alipur chattha                 1\n",
       "islamabad                      1\n",
       "Khanpur                        1\n",
       "multan                         1\n",
       "خان پور                        1\n",
       "Quetta                         1\n",
       "Khushab                        1\n",
       "Arifwala                       1\n",
       "                              ..\n",
       "Daur                           1\n",
       "Kungsängen                     1\n",
       "Mansehra bazar                 1\n",
       "Jhelum                         1\n",
       "خانیوال                        1\n",
       "bahawalpur                     1\n",
       "Seri iskander                  1\n",
       "Muzafar garh                   1\n",
       "Hub chowki                     1\n",
       "Gilgit                         1\n",
       "Lakki marwat                   1\n",
       "Swat Mingora                   1\n",
       "Bhalwal                        1\n",
       "Bhakkar                        1\n",
       "Mansehra                       1\n",
       "Hafizabad                      1\n",
       "dajal dist rajanpur            1\n",
       "Dikhan, paharpur               1\n",
       "Malakand                       1\n",
       "LiaquatPur                     1\n",
       "Vehari                         1\n",
       "dorr                           1\n",
       "Taunsa sharif                  1\n",
       "Mingora swat                   1\n",
       "Jubail                         1\n",
       "Lasbela                        1\n",
       "East Karachi                   1\n",
       "Tanndo allah yar               1\n",
       "Kaleke Mandi                   1\n",
       "burewala                       1\n",
       "Name: City, Length: 91, dtype: int64"
      ]
     },
     "execution_count": 64,
     "metadata": {},
     "output_type": "execute_result"
    }
   ],
   "source": [
    "# Cancelled orders citywise\n",
    "canc = dataset[dataset['Order Status'] == 'Cancelled']\n",
    "canc['City'].value_counts()"
   ]
  },
  {
   "cell_type": "code",
   "execution_count": 65,
   "metadata": {
    "execution": {
     "iopub.execute_input": "2021-03-23T20:33:56.403120Z",
     "iopub.status.busy": "2021-03-23T20:33:56.402376Z",
     "iopub.status.idle": "2021-03-23T20:33:56.687095Z",
     "shell.execute_reply": "2021-03-23T20:33:56.687661Z"
    },
    "papermill": {
     "duration": 0.337819,
     "end_time": "2021-03-23T20:33:56.687867",
     "exception": false,
     "start_time": "2021-03-23T20:33:56.350048",
     "status": "completed"
    },
    "tags": []
   },
   "outputs": [
    {
     "data": {
      "text/plain": [
       "<matplotlib.axes._subplots.AxesSubplot at 0x1fe8c4895c0>"
      ]
     },
     "execution_count": 65,
     "metadata": {},
     "output_type": "execute_result"
    },
    {
     "data": {
      "image/png": "[encoded data removed]",
      "text/plain": [
       "<Figure size 864x432 with 1 Axes>"
      ]
     },
     "metadata": {
      "needs_background": "light"
     },
     "output_type": "display_data"
    }
   ],
   "source": [
    "# Plot of first 20 cities (cancelled orders)\n",
    "canc = canc['City'].value_counts()[0:20]\n",
    "plt.figure(figsize=(12,6))\n",
    "canc.plot(kind='bar', title='Cancelled orders citywise')"
   ]
  },
  {
   "cell_type": "code",
   "execution_count": 66,
   "metadata": {
    "execution": {
     "iopub.execute_input": "2021-03-23T20:33:56.784796Z",
     "iopub.status.busy": "2021-03-23T20:33:56.784104Z",
     "iopub.status.idle": "2021-03-23T20:33:56.798616Z",
     "shell.execute_reply": "2021-03-23T20:33:56.797931Z"
    },
    "papermill": {
     "duration": 0.06377,
     "end_time": "2021-03-23T20:33:56.798773",
     "exception": false,
     "start_time": "2021-03-23T20:33:56.735003",
     "status": "completed"
    },
    "tags": []
   },
   "outputs": [
    {
     "data": {
      "text/plain": [
       "Karachi                             74\n",
       "Lahore                              71\n",
       "Islamabad                           39\n",
       "Peshawar                            25\n",
       "Rawalpindi                          25\n",
       "Multan                              25\n",
       "Hyderabad                           24\n",
       "karachi                             21\n",
       "Faisalabad                          20\n",
       "Gujranwala                          15\n",
       "Quetta                              12\n",
       "Vehari                               9\n",
       "London                               8\n",
       "Town                                 7\n",
       "Sialkot                              7\n",
       "Haripur KP                           6\n",
       "Lakki marwat                         6\n",
       "talagang                             6\n",
       "Sargodha                             6\n",
       "KARACHI                              6\n",
       "Gujrat                               6\n",
       "Layyah                               6\n",
       "Abbottabad                           5\n",
       "Kasur                                5\n",
       "Oakville                             5\n",
       "Loralai District                     5\n",
       "Dera Ismail Khan                     5\n",
       "LAHORE                               5\n",
       "CH NO 173 TDA LAYYAH                 5\n",
       "Bahawalpur                           5\n",
       "                                    ..\n",
       "Nankana Sahib                        1\n",
       "Tehsil Thul (District Jacobabad)     1\n",
       "Sanghar                              1\n",
       "Astore                               1\n",
       "NooriAbad                            1\n",
       "Korangi, Karachi                     1\n",
       "Fort Worth                           1\n",
       "Thull                                1\n",
       "لالیاں                               1\n",
       "Sialkot punjab                       1\n",
       "Muzaffarbad, Ghari dupata            1\n",
       "Shahdara Town Lahore                 1\n",
       "Musa Khel                            1\n",
       "72                                   1\n",
       "Swabi gohati                         1\n",
       "لاہور                                1\n",
       "Pir Baba bunair                      1\n",
       "tuqtta                               1\n",
       "makah                                1\n",
       "Jamshoro                             1\n",
       "Yazman Mandi                         1\n",
       "Peshawer                             1\n",
       "Jatoi                                1\n",
       "BHARA KAHU                           1\n",
       "D type sohailabad faislabad          1\n",
       "Shorkot city Dist Jhang              1\n",
       "Pir Mahal                            1\n",
       "Mubarak shahi                        1\n",
       "Thoha khlas                          1\n",
       "Karachi Gadap Town                   1\n",
       "Name: City, Length: 534, dtype: int64"
      ]
     },
     "execution_count": 66,
     "metadata": {},
     "output_type": "execute_result"
    }
   ],
   "source": [
    "# Returned orders citywise\n",
    "retr = dataset[dataset['Order Status'] == 'Returned']\n",
    "retr['City'].value_counts()"
   ]
  },
  {
   "cell_type": "code",
   "execution_count": 67,
   "metadata": {
    "execution": {
     "iopub.execute_input": "2021-03-23T20:33:56.897827Z",
     "iopub.status.busy": "2021-03-23T20:33:56.897092Z",
     "iopub.status.idle": "2021-03-23T20:33:57.175353Z",
     "shell.execute_reply": "2021-03-23T20:33:57.175951Z"
    },
    "papermill": {
     "duration": 0.329913,
     "end_time": "2021-03-23T20:33:57.176170",
     "exception": false,
     "start_time": "2021-03-23T20:33:56.846257",
     "status": "completed"
    },
    "tags": []
   },
   "outputs": [
    {
     "data": {
      "text/plain": [
       "<matplotlib.axes._subplots.AxesSubplot at 0x1fe8c538198>"
      ]
     },
     "execution_count": 67,
     "metadata": {},
     "output_type": "execute_result"
    },
    {
     "data": {
      "image/png": "[encoded data removed]",
      "text/plain": [
       "<Figure size 864x432 with 1 Axes>"
      ]
     },
     "metadata": {
      "needs_background": "light"
     },
     "output_type": "display_data"
    }
   ],
   "source": [
    "# Plot of first 20 cities (returned orders)\n",
    "retr = retr['City'].value_counts()[0:20]\n",
    "plt.figure(figsize=(12,6))\n",
    "retr.plot(kind='bar', title='Returned orders citywise')"
   ]
  },
  {
   "cell_type": "markdown",
   "metadata": {
    "papermill": {
     "duration": 0.048164,
     "end_time": "2021-03-23T20:33:57.273841",
     "exception": false,
     "start_time": "2021-03-23T20:33:57.225677",
     "status": "completed"
    },
    "tags": []
   },
   "source": [
    "# Citywise orders completion percentage (%)"
   ]
  },
  {
   "cell_type": "code",
   "execution_count": 68,
   "metadata": {
    "execution": {
     "iopub.execute_input": "2021-03-23T20:33:57.377842Z",
     "iopub.status.busy": "2021-03-23T20:33:57.377046Z",
     "iopub.status.idle": "2021-03-23T20:33:57.405012Z",
     "shell.execute_reply": "2021-03-23T20:33:57.404179Z"
    },
    "papermill": {
     "duration": 0.081895,
     "end_time": "2021-03-23T20:33:57.405175",
     "exception": false,
     "start_time": "2021-03-23T20:33:57.323280",
     "status": "completed"
    },
    "tags": []
   },
   "outputs": [],
   "source": [
    "# First 20 Cities order completion percentage\n",
    "orders = dataset['City'].value_counts()[0:20]\n",
    "completed = dataset[dataset['Order Status'] == 'Completed']\n",
    "completed = completed['City'].value_counts()[0:20]\n",
    "percent= []\n",
    "for i in range(20):\n",
    "    percent.append((completed[i] * 100) / orders[i])"
   ]
  },
  {
   "cell_type": "code",
   "execution_count": 69,
   "metadata": {},
   "outputs": [
    {
     "data": {
      "text/plain": [
       "[96.14230604372054,\n",
       " 95.88559959859508,\n",
       " 94.9941792782305,\n",
       " 95.50387596899225,\n",
       " 94.97907949790795,\n",
       " 93.44262295081967,\n",
       " 92.7400468384075,\n",
       " 93.5114503816794,\n",
       " 89.72332015810277,\n",
       " 90.0,\n",
       " 94.17040358744394,\n",
       " 96.53465346534654,\n",
       " 95.20958083832335,\n",
       " 95.1219512195122,\n",
       " 97.32142857142857,\n",
       " 94.11764705882354,\n",
       " 95.87628865979381,\n",
       " 94.73684210526316,\n",
       " 93.61702127659575,\n",
       " 93.4065934065934]"
      ]
     },
     "execution_count": 69,
     "metadata": {},
     "output_type": "execute_result"
    }
   ],
   "source": [
    "# orders completion percentage for each city\n",
    "percent"
   ]
  },
  {
   "cell_type": "code",
   "execution_count": 70,
   "metadata": {
    "execution": {
     "iopub.execute_input": "2021-03-23T20:33:57.527921Z",
     "iopub.status.busy": "2021-03-23T20:33:57.526160Z",
     "iopub.status.idle": "2021-03-23T20:33:57.822230Z",
     "shell.execute_reply": "2021-03-23T20:33:57.821487Z"
    },
    "papermill": {
     "duration": 0.368645,
     "end_time": "2021-03-23T20:33:57.822421",
     "exception": false,
     "start_time": "2021-03-23T20:33:57.453776",
     "status": "completed"
    },
    "tags": []
   },
   "outputs": [
    {
     "data": {
      "image/png": "[encoded data removed]",
      "text/plain": [
       "<Figure size 720x432 with 1 Axes>"
      ]
     },
     "metadata": {
      "needs_background": "light"
     },
     "output_type": "display_data"
    }
   ],
   "source": [
    "fig, ax = plt.subplots()\n",
    "ax = sns.barplot(x=completed,y=percent)\n",
    "ax.set_xlabel('City Names', fontsize=20)\n",
    "ax.set_ylabel('Percentage Frequency', fontsize=20)\n",
    "ax.set_xticklabels(orders.index, rotation='vertical', fontsize=10)\n",
    "fig.set_size_inches([10,6])\n",
    "plt.show()"
   ]
  },
  {
   "cell_type": "markdown",
   "metadata": {
    "papermill": {
     "duration": 0.049883,
     "end_time": "2021-03-23T20:33:57.923658",
     "exception": false,
     "start_time": "2021-03-23T20:33:57.873775",
     "status": "completed"
    },
    "tags": []
   },
   "source": [
    "# In Progress"
   ]
  }
 ],
 "metadata": {
  "kernelspec": {
   "display_name": "Python 3",
   "language": "python",
   "name": "python3"
  },
  "language_info": {
   "codemirror_mode": {
    "name": "ipython",
    "version": 3
   },
   "file_extension": ".py",
   "mimetype": "text/x-python",
   "name": "python",
   "nbconvert_exporter": "python",
   "pygments_lexer": "ipython3",
   "version": "3.7.1"
  },
  "papermill": {
   "default_parameters": {},
   "duration": 21.840992,
   "end_time": "2021-03-23T20:33:58.784744",
   "environment_variables": {},
   "exception": null,
   "input_path": "__notebook__.ipynb",
   "output_path": "__notebook__.ipynb",
   "parameters": {},
   "start_time": "2021-03-23T20:33:36.943752",
   "version": "2.2.2"
  }
 },
 "nbformat": 4,
 "nbformat_minor": 4
}
